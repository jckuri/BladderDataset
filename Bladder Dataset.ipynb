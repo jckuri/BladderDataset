{
 "cells": [
  {
   "cell_type": "markdown",
   "metadata": {},
   "source": [
    "# Acute Inflammations of the Urinary System\n",
    "**SOURCE: https://archive.ics.uci.edu/ml/datasets/Acute+Inflammations**\n",
    "\n",
    "**Abstract:** The data was created by a medical expert as a data set to test \n",
    "the expert system, which will perform the presumptive diagnosis of two \n",
    "diseases of the urinary system.\n",
    "\t\n",
    "Data Set Characteristics:  Multivariate<br/>\n",
    "Attribute Characteristics: Categorical, Integer<br/>\n",
    "Associated Tasks: Classification<br/>\n",
    "Number of Instances: 120<br/>\n",
    "Number of Attributes: 6<br/>\n",
    "Missing Values? No<br/>\n",
    "Area: Life<br/>\n",
    "Date Donated: 2009-02-11<br/>\n",
    "\n",
    "## Source:\n",
    "\n",
    "Jacek Czerniak, Ph.D., Assistant Professor<br/>\n",
    "Systems Research Institute<br/>\n",
    "Polish Academy of Sciences<br/>\n",
    "Laboratory of Intelligent Systems<br/>\n",
    "ul. Newelska 6, Room 218<br/>\n",
    "01-447 Warszawa, Poland<br/>\n",
    "e-mail: jacek.czerniak@ibspan.waw.pl or jczerniak@ukw.edu.pl <br/>\n",
    "\n",
    "## Data Set Information:\n",
    "\n",
    "The main idea of this data set is to prepare the algorithm of the expert \n",
    "system, which will perform the presumptive diagnosis of two diseases of \n",
    "urinary system. It will be the example of diagnosing of the acute \n",
    "inflammations of urinary bladder and acute nephritises. For better \n",
    "understanding of the problem let us consider definitions of both \n",
    "diseases given by medics. Acute inflammation of urinary bladder is\n",
    "characterised by sudden occurrence of pains in the abdomen region and \n",
    "the urination in form of constant urine pushing, micturition pains and \n",
    "sometimes lack of urine keeping. Temperature of the body is rising, \n",
    "however most often not above 38C. The excreted urine is turbid and \n",
    "sometimes bloody. At proper treatment, symptoms decay usually within \n",
    "several days. However, there is inclination to returns. At persons with \n",
    "acute inflammation of urinary bladder, we should expect that the illness \n",
    "will turn into protracted form.\n",
    "\n",
    "Acute nephritis of renal pelvis origin occurs considerably more often at \n",
    "women than at men. It begins with sudden fever, which reaches, and \n",
    "sometimes exceeds 40C. The fever is accompanied by shivers and one- or \n",
    "both-side lumbar pains, which are sometimes very strong. Symptoms of \n",
    "acute inflammation of urinary bladder appear very often. Quite not \n",
    "infrequently there are nausea and vomiting and spread pains of whole \n",
    "abdomen.\n",
    "\n",
    "The data was created by a medical expert as a data set to test the \n",
    "expert system, which will perform the presumptive diagnosis of two \n",
    "diseases of urinary system. The basis for rules detection was Rough Sets \n",
    "Theory. Each instance represents an potential patient.\n",
    "\n",
    "The data is in an ASCII file. Attributes are separated by TAB. Each line \n",
    "of the data file starts with a digit which tells the temperature of patient.\n",
    "\n",
    "## Attribute Example:\n",
    "\n",
    "For example, '35,9 no no yes yes yes yes no'<br/>\n",
    "Where:<br/>\n",
    "'35,9' Temperature of patient<br/>\n",
    "'no' Occurrence of nausea<br/>\n",
    "'no' Lumbar pain<br/>\n",
    "'yes' Urine pushing (continuous need for urination)<br/>\n",
    "'yes' Micturition pains<br/>\n",
    "'yes' Burning of urethra, itch, swelling of urethra outlet<br/>\n",
    "'yes' decision: Inflammation of urinary bladder<br/>\n",
    "'no' decision: Nephritis of renal pelvis origin<br/>\n",
    "\n",
    "## Attribute Information:\n",
    "\n",
    "a1 Temperature of patient { 35C-42C }<br/>\n",
    "a2 Occurrence of nausea { yes, no }<br/>\n",
    "a3 Lumbar pain { yes, no }<br/>\n",
    "a4 Urine pushing (continuous need for urination) { yes, no }<br/>\n",
    "a5 Micturition pains { yes, no }<br/>\n",
    "a6 Burning of urethra, itch, swelling of urethra outlet { yes, no }<br/>\n",
    "d1 decision: Inflammation of urinary bladder { yes, no }<br/>\n",
    "d2 decision: Nephritis of renal pelvis origin { yes, no } <br/>\n",
    "\n",
    "## Relevant Papers:\n",
    "\n",
    "J.Czerniak, H.Zarzycki, Application of rough sets in the presumptive \n",
    "diagnosis of urinary system diseases, Artifical Inteligence and Security \n",
    "in Computing Systems, ACS'2002 9th International Conference Proceedings, \n",
    "Kluwer Academic Publishers,2003, pp. 41-51\n"
   ]
  },
  {
   "cell_type": "code",
   "execution_count": 1,
   "metadata": {},
   "outputs": [],
   "source": [
    "import urllib.request\n",
    "\n",
    "def download_url(url, save_as):\n",
    "    response = urllib.request.urlopen(url)\n",
    "    data = response.read()\n",
    "    file = open(save_as, 'wb')\n",
    "    file.write(data)\n",
    "    file.close()\n",
    "    response.close()\n",
    "    \n",
    "def read_binary_file(file):\n",
    "    f = open(file,'rb')\n",
    "    block = f.read()\n",
    "    return block.decode('utf-16')\n",
    "\n",
    "def split_text_in_lines(text):\n",
    "    return text.split('\\r\\n')\n",
    "\n",
    "def split_by_tabs(line):\n",
    "    return line.split('\\t')"
   ]
  },
  {
   "cell_type": "code",
   "execution_count": 2,
   "metadata": {},
   "outputs": [],
   "source": [
    "names_link = 'https://archive.ics.uci.edu/ml/machine-learning-databases/acute/diagnosis.names'\n",
    "data_link = 'https://archive.ics.uci.edu/ml/machine-learning-databases/acute/diagnosis.data'\n",
    "diagnosis_names = 'diagnosis.names'\n",
    "diagnosis_data = 'diagnosis.data'\n",
    "download_url(names_link, diagnosis_names)\n",
    "download_url(data_link, diagnosis_data)"
   ]
  },
  {
   "cell_type": "code",
   "execution_count": 3,
   "metadata": {},
   "outputs": [],
   "source": [
    "import numpy as np\n",
    "\n",
    "def parse_double(field):\n",
    "    field = field.replace(',', '.')\n",
    "    return float(field)\n",
    "\n",
    "def parse_boolean(field):\n",
    "    return 1. if field == 'yes' else 0.\n",
    "\n",
    "def read_np_array(file = diagnosis_data):\n",
    "    text = read_binary_file(file)\n",
    "    lines = split_text_in_lines(text)\n",
    "    rows = []\n",
    "    for line in lines:\n",
    "        if line == '': continue\n",
    "        line = line.replace('\\r\\n', '')\n",
    "        fields = split_by_tabs(line)\n",
    "        row = []\n",
    "        j = 0\n",
    "        for field in fields:\n",
    "            value = parse_double(field) if j == 0 else parse_boolean(field)\n",
    "            row.append(value)\n",
    "            j += 1\n",
    "        rows.append(row)\n",
    "    matrix = np.array(rows, dtype = np.float32)\n",
    "    return matrix\n",
    "\n",
    "def get_random_indexes(n):\n",
    "    indexes = list(range(n))\n",
    "    random_indexes = []\n",
    "    for i in range(n):\n",
    "        r = np.random.randint(len(indexes))\n",
    "        random_indexes.append(indexes.pop(r))\n",
    "    return random_indexes\n",
    "\n",
    "def get_indexes_for_2_datasets(n, training = 80):\n",
    "    indexes = get_random_indexes(n)\n",
    "    train = int(training / 100. * n)\n",
    "    return indexes[:train], indexes[train:]\n",
    "\n",
    "matrix = read_np_array()\n",
    "n_samples, n_dimensions = matrix.shape\n",
    "\n",
    "train_indexes, test_indexes = get_indexes_for_2_datasets(n_samples)\n",
    "train_data = matrix[train_indexes]\n",
    "test_data = matrix[test_indexes]\n",
    "\n",
    "def print_dataset(name, data):\n",
    "    print('Dataset {}. Shape: {}'.format(name, data.shape))\n",
    "    print(data)"
   ]
  },
  {
   "cell_type": "code",
   "execution_count": 4,
   "metadata": {},
   "outputs": [
    {
     "name": "stdout",
     "output_type": "stream",
     "text": [
      "Dataset Train. Shape: (96, 8)\n",
      "[[37.   0.   0.   1.   1.   1.   1.   0. ]\n",
      " [37.5  0.   0.   1.   1.   0.   1.   0. ]\n",
      " [37.5  0.   0.   1.   0.   0.   1.   0. ]\n",
      " [36.9  0.   1.   0.   0.   0.   0.   0. ]\n",
      " [37.5  0.   1.   0.   0.   0.   0.   0. ]\n",
      " [36.7  0.   1.   0.   0.   0.   0.   0. ]\n",
      " [37.   0.   0.   1.   1.   0.   1.   0. ]\n",
      " [41.1  1.   1.   0.   1.   0.   0.   1. ]\n",
      " [40.9  1.   1.   1.   1.   0.   1.   1. ]\n",
      " [40.7  0.   1.   1.   0.   1.   0.   1. ]\n",
      " [38.3  0.   1.   1.   0.   1.   0.   1. ]\n",
      " [40.2  0.   0.   0.   0.   0.   0.   0. ]\n",
      " [37.3  0.   0.   1.   0.   0.   1.   0. ]\n",
      " [40.8  0.   1.   1.   0.   1.   0.   1. ]\n",
      " [40.6  1.   1.   1.   1.   1.   1.   1. ]\n",
      " [37.2  0.   0.   1.   1.   0.   1.   0. ]\n",
      " [37.9  0.   0.   1.   1.   1.   1.   0. ]\n",
      " [37.   0.   0.   1.   1.   1.   1.   0. ]\n",
      " [40.4  0.   0.   0.   0.   0.   0.   0. ]\n",
      " [37.9  0.   0.   1.   1.   0.   1.   0. ]\n",
      " [38.   0.   1.   1.   0.   1.   0.   1. ]\n",
      " [41.5  0.   0.   0.   0.   0.   0.   0. ]\n",
      " [37.3  0.   1.   0.   0.   0.   0.   0. ]\n",
      " [37.9  0.   0.   1.   0.   0.   1.   0. ]\n",
      " [37.5  0.   0.   1.   0.   0.   1.   0. ]\n",
      " [41.1  0.   1.   1.   0.   1.   0.   1. ]\n",
      " [40.   1.   1.   1.   1.   1.   1.   1. ]\n",
      " [37.   0.   0.   1.   1.   0.   1.   0. ]\n",
      " [40.   0.   0.   0.   0.   0.   0.   0. ]\n",
      " [37.1  0.   0.   1.   1.   1.   1.   0. ]\n",
      " [37.4  0.   0.   1.   0.   0.   1.   0. ]\n",
      " [37.6  0.   0.   1.   1.   1.   1.   0. ]\n",
      " [41.1  1.   1.   1.   1.   1.   1.   1. ]\n",
      " [36.2  0.   1.   0.   0.   0.   0.   0. ]\n",
      " [38.   0.   1.   1.   0.   1.   0.   1. ]\n",
      " [36.3  0.   0.   1.   1.   1.   1.   0. ]\n",
      " [37.5  0.   1.   0.   0.   0.   0.   0. ]\n",
      " [40.7  0.   0.   0.   0.   0.   0.   0. ]\n",
      " [36.6  0.   1.   0.   0.   0.   0.   0. ]\n",
      " [37.   0.   1.   0.   0.   0.   0.   0. ]\n",
      " [41.5  1.   1.   0.   1.   0.   0.   1. ]\n",
      " [41.5  0.   1.   1.   0.   1.   0.   1. ]\n",
      " [40.   1.   1.   1.   1.   1.   1.   1. ]\n",
      " [36.   0.   0.   1.   1.   1.   1.   0. ]\n",
      " [36.   0.   1.   0.   0.   0.   0.   0. ]\n",
      " [37.7  0.   0.   1.   1.   0.   1.   0. ]\n",
      " [40.   0.   1.   1.   0.   1.   0.   1. ]\n",
      " [37.6  0.   0.   1.   1.   0.   1.   0. ]\n",
      " [37.8  0.   0.   1.   0.   0.   1.   0. ]\n",
      " [41.3  1.   1.   1.   1.   0.   1.   1. ]\n",
      " [36.7  0.   1.   0.   0.   0.   0.   0. ]\n",
      " [40.4  1.   1.   1.   1.   0.   1.   1. ]\n",
      " [37.   0.   0.   1.   0.   0.   1.   0. ]\n",
      " [37.7  0.   0.   1.   0.   0.   1.   0. ]\n",
      " [36.   0.   1.   0.   0.   0.   0.   0. ]\n",
      " [41.2  1.   1.   1.   1.   1.   1.   1. ]\n",
      " [37.8  0.   0.   1.   1.   1.   1.   0. ]\n",
      " [41.4  0.   1.   1.   0.   1.   0.   1. ]\n",
      " [40.5  1.   1.   1.   1.   0.   1.   1. ]\n",
      " [37.9  0.   0.   1.   1.   0.   1.   0. ]\n",
      " [36.8  0.   0.   1.   1.   1.   1.   0. ]\n",
      " [38.7  0.   1.   1.   0.   1.   0.   1. ]\n",
      " [36.6  0.   0.   1.   1.   1.   1.   0. ]\n",
      " [40.   1.   1.   1.   1.   0.   1.   1. ]\n",
      " [39.4  0.   1.   1.   0.   1.   0.   1. ]\n",
      " [39.7  0.   1.   1.   0.   1.   0.   1. ]\n",
      " [36.8  0.   0.   1.   1.   1.   1.   0. ]\n",
      " [37.7  0.   1.   0.   0.   0.   0.   0. ]\n",
      " [40.6  1.   1.   0.   1.   0.   0.   1. ]\n",
      " [37.   0.   0.   1.   1.   1.   1.   0. ]\n",
      " [37.4  0.   1.   0.   0.   0.   0.   0. ]\n",
      " [37.6  0.   0.   1.   1.   0.   1.   0. ]\n",
      " [37.8  0.   1.   0.   0.   0.   0.   0. ]\n",
      " [40.4  1.   1.   1.   1.   1.   1.   1. ]\n",
      " [38.5  0.   1.   1.   0.   1.   0.   1. ]\n",
      " [41.   1.   1.   1.   1.   1.   1.   1. ]\n",
      " [35.9  0.   1.   0.   0.   0.   0.   0. ]\n",
      " [40.7  1.   1.   0.   1.   0.   0.   1. ]\n",
      " [41.   0.   0.   0.   0.   0.   0.   0. ]\n",
      " [40.   1.   1.   0.   1.   0.   0.   1. ]\n",
      " [40.1  1.   1.   1.   1.   0.   1.   1. ]\n",
      " [38.1  0.   1.   1.   0.   1.   0.   1. ]\n",
      " [39.   0.   1.   1.   0.   1.   0.   1. ]\n",
      " [40.2  1.   1.   1.   1.   1.   1.   1. ]\n",
      " [37.9  0.   1.   0.   0.   0.   0.   0. ]\n",
      " [40.7  1.   1.   1.   1.   1.   1.   1. ]\n",
      " [36.6  0.   0.   1.   1.   1.   1.   0. ]\n",
      " [36.2  0.   0.   1.   1.   1.   1.   0. ]\n",
      " [41.   1.   1.   0.   1.   0.   0.   1. ]\n",
      " [37.   0.   0.   1.   1.   1.   1.   0. ]\n",
      " [37.3  0.   0.   1.   1.   1.   1.   0. ]\n",
      " [40.4  1.   1.   1.   1.   0.   1.   1. ]\n",
      " [40.6  0.   0.   0.   0.   0.   0.   0. ]\n",
      " [40.   0.   0.   0.   0.   0.   0.   0. ]\n",
      " [41.2  1.   1.   0.   1.   0.   0.   1. ]\n",
      " [41.   0.   1.   1.   0.   1.   0.   1. ]]\n"
     ]
    }
   ],
   "source": [
    "print_dataset('Train', train_data)"
   ]
  },
  {
   "cell_type": "code",
   "execution_count": 5,
   "metadata": {},
   "outputs": [
    {
     "name": "stdout",
     "output_type": "stream",
     "text": [
      "Dataset Test. Shape: (24, 8)\n",
      "[[37.2  0.   1.   0.   0.   0.   0.   0. ]\n",
      " [41.1  1.   1.   1.   1.   0.   1.   1. ]\n",
      " [36.9  0.   0.   1.   1.   1.   1.   0. ]\n",
      " [40.9  0.   1.   1.   0.   1.   0.   1. ]\n",
      " [37.7  0.   0.   1.   1.   0.   1.   0. ]\n",
      " [40.4  1.   1.   0.   1.   0.   0.   1. ]\n",
      " [37.1  0.   1.   0.   0.   0.   0.   0. ]\n",
      " [38.9  0.   1.   1.   0.   1.   0.   1. ]\n",
      " [36.6  0.   1.   0.   0.   0.   0.   0. ]\n",
      " [37.5  0.   0.   1.   1.   1.   1.   0. ]\n",
      " [35.5  0.   1.   0.   0.   0.   0.   0. ]\n",
      " [37.2  0.   0.   1.   0.   0.   1.   0. ]\n",
      " [35.9  0.   0.   1.   1.   1.   1.   0. ]\n",
      " [41.2  0.   0.   0.   0.   0.   0.   0. ]\n",
      " [37.1  0.   0.   1.   0.   0.   1.   0. ]\n",
      " [40.   1.   1.   0.   1.   0.   0.   1. ]\n",
      " [40.9  1.   1.   1.   1.   0.   1.   1. ]\n",
      " [40.2  1.   1.   0.   1.   0.   0.   1. ]\n",
      " [41.5  0.   1.   1.   0.   1.   0.   1. ]\n",
      " [40.7  1.   1.   1.   1.   0.   1.   1. ]\n",
      " [41.1  0.   0.   0.   0.   0.   0.   0. ]\n",
      " [36.7  0.   0.   1.   1.   1.   1.   0. ]\n",
      " [41.2  0.   1.   1.   0.   1.   0.   1. ]\n",
      " [40.3  0.   1.   1.   0.   1.   0.   1. ]]\n"
     ]
    }
   ],
   "source": [
    "print_dataset('Test', test_data)"
   ]
  },
  {
   "cell_type": "code",
   "execution_count": 6,
   "metadata": {},
   "outputs": [],
   "source": [
    "import torch\n",
    "from torch.autograd import Variable\n",
    "import torch.nn as nn\n",
    "import torch.nn.functional as F\n",
    "\n",
    "input_size = 6\n",
    "learning_rate = 0.01\n",
    "num_iterations = 20000\n",
    "\n",
    "class LogisticRegression(torch.nn.Module):\n",
    "\n",
    "    def __init__(self):\n",
    "        super(LogisticRegression, self).__init__()\n",
    "        self.linear = torch.nn.Linear(input_size, 1)\n",
    "\n",
    "    def forward(self, x):\n",
    "        return torch.sigmoid(self.linear(x))\n",
    "    \n",
    "def decide(y):\n",
    "    return 1. if y >= 0.5 else 0.\n",
    "\n",
    "decide_vectorized = np.vectorize(decide)\n",
    "\n",
    "to_percent = lambda x: '{:.2f}%'.format(x)\n",
    "\n",
    "def compute_accuracy(model, input, output):\n",
    "    prediction = model(input).data.numpy()[:, 0]\n",
    "    n_samples = prediction.shape[0] + 0.\n",
    "    prediction = decide_vectorized(prediction)\n",
    "    equal = prediction == output.data.numpy()\n",
    "    return 100. * equal.sum() / n_samples\n",
    "\n",
    "def get_input_and_output(data):\n",
    "    input = Variable(torch.tensor(data[:, :6], dtype = torch.float32))\n",
    "    output1 = Variable(torch.tensor(data[:, 6], dtype = torch.float32))\n",
    "    output2 = Variable(torch.tensor(data[:, 7], dtype = torch.float32))\n",
    "    return input, output1, output2\n",
    "\n",
    "input, output1, output2 = get_input_and_output(train_data)\n",
    "test_input, test_output1, test_output2 = get_input_and_output(test_data)\n",
    "\n",
    "import matplotlib.pyplot as plt\n",
    "%matplotlib inline\n",
    "\n",
    "diagnosis_title1 = 'Inflammation of Urinary Bladder'\n",
    "diagnosis_title2 = 'Nephritis of Renal Pelvis Origin'\n",
    "\n",
    "def plot_graphs(diagnosis_title, losses, accuracies):\n",
    "    plt.plot(losses)\n",
    "    plt.title(f\"{diagnosis_title} - Training Loss\")\n",
    "    plt.xlabel(\"Iterations\")\n",
    "    plt.ylabel(\"Training Loss\")\n",
    "    plt.show()\n",
    "    plt.plot(accuracies)\n",
    "    plt.title(f\"{diagnosis_title} - Training Accuracy\")\n",
    "    plt.xlabel(\"Iterations\")\n",
    "    plt.ylabel(\"Training Accuracy (Percent %)\")\n",
    "    plt.show()\n",
    "    \n",
    "def train_model(diagnosis_title, input, output, test_input, test_output):\n",
    "    model = LogisticRegression()\n",
    "    criterion = torch.nn.BCELoss(size_average=True)\n",
    "    optimizer = torch.optim.SGD(model.parameters(), lr=learning_rate)  \n",
    "    losses = []\n",
    "    accuracies = []\n",
    "    n_samples, _ = input.shape\n",
    "    for iteration in range(num_iterations):\n",
    "            optimizer.zero_grad()\n",
    "            prediction = model(input)\n",
    "            loss = criterion(prediction, output)\n",
    "            loss.backward()\n",
    "            optimizer.step()\n",
    "            if iteration % 500 == 0:\n",
    "                train_acc = compute_accuracy(model, input, output)\n",
    "                train_loss = loss.item()\n",
    "                losses.append(train_loss)\n",
    "                accuracies.append(train_acc)\n",
    "                print('iteration={}, loss={:.4f}, train_acc={}'.format(iteration, train_loss, to_percent(train_acc)))\n",
    "    plot_graphs(diagnosis_title, losses, accuracies)\n",
    "    test_acc = compute_accuracy(model, test_input, test_output)\n",
    "    print('\\nTesting Accuracy = {}'.format(to_percent(test_acc)))\n",
    "    return model\n"
   ]
  },
  {
   "cell_type": "code",
   "execution_count": 7,
   "metadata": {},
   "outputs": [
    {
     "name": "stderr",
     "output_type": "stream",
     "text": [
      "/home/jckuri/.conda/envs/private_pytorch/lib/python3.7/site-packages/torch/nn/_reduction.py:46: UserWarning: size_average and reduce args will be deprecated, please use reduction='mean' instead.\n",
      "  warnings.warn(warning.format(ret))\n",
      "/home/jckuri/.conda/envs/private_pytorch/lib/python3.7/site-packages/torch/nn/modules/loss.py:512: UserWarning: Using a target size (torch.Size([96])) that is different to the input size (torch.Size([96, 1])) is deprecated. Please ensure they have the same size.\n",
      "  return F.binary_cross_entropy(input, target, weight=self.weight, reduction=self.reduction)\n"
     ]
    },
    {
     "name": "stdout",
     "output_type": "stream",
     "text": [
      "iteration=0, loss=3.3360, train_acc=48.96%\n",
      "iteration=500, loss=1.5004, train_acc=48.96%\n",
      "iteration=1000, loss=0.9875, train_acc=48.96%\n",
      "iteration=1500, loss=0.3552, train_acc=84.38%\n",
      "iteration=2000, loss=0.2006, train_acc=100.00%\n",
      "iteration=2500, loss=0.1787, train_acc=100.00%\n",
      "iteration=3000, loss=0.1615, train_acc=100.00%\n",
      "iteration=3500, loss=0.1476, train_acc=100.00%\n",
      "iteration=4000, loss=0.1360, train_acc=100.00%\n",
      "iteration=4500, loss=0.1262, train_acc=100.00%\n",
      "iteration=5000, loss=0.1178, train_acc=100.00%\n",
      "iteration=5500, loss=0.1104, train_acc=100.00%\n",
      "iteration=6000, loss=0.1040, train_acc=100.00%\n",
      "iteration=6500, loss=0.0983, train_acc=100.00%\n",
      "iteration=7000, loss=0.0933, train_acc=100.00%\n",
      "iteration=7500, loss=0.0887, train_acc=100.00%\n",
      "iteration=8000, loss=0.0846, train_acc=100.00%\n",
      "iteration=8500, loss=0.0808, train_acc=100.00%\n",
      "iteration=9000, loss=0.0774, train_acc=100.00%\n",
      "iteration=9500, loss=0.0742, train_acc=100.00%\n",
      "iteration=10000, loss=0.0713, train_acc=100.00%\n",
      "iteration=10500, loss=0.0687, train_acc=100.00%\n",
      "iteration=11000, loss=0.0662, train_acc=100.00%\n",
      "iteration=11500, loss=0.0639, train_acc=100.00%\n",
      "iteration=12000, loss=0.0618, train_acc=100.00%\n",
      "iteration=12500, loss=0.0598, train_acc=100.00%\n",
      "iteration=13000, loss=0.0579, train_acc=100.00%\n",
      "iteration=13500, loss=0.0561, train_acc=100.00%\n",
      "iteration=14000, loss=0.0545, train_acc=100.00%\n",
      "iteration=14500, loss=0.0529, train_acc=100.00%\n",
      "iteration=15000, loss=0.0514, train_acc=100.00%\n",
      "iteration=15500, loss=0.0500, train_acc=100.00%\n",
      "iteration=16000, loss=0.0487, train_acc=100.00%\n",
      "iteration=16500, loss=0.0475, train_acc=100.00%\n",
      "iteration=17000, loss=0.0463, train_acc=100.00%\n",
      "iteration=17500, loss=0.0452, train_acc=100.00%\n",
      "iteration=18000, loss=0.0441, train_acc=100.00%\n",
      "iteration=18500, loss=0.0431, train_acc=100.00%\n",
      "iteration=19000, loss=0.0421, train_acc=100.00%\n",
      "iteration=19500, loss=0.0412, train_acc=100.00%\n"
     ]
    },
    {
     "data": {
      "image/png": "[encoded data removed]",
      "text/plain": [
       "<Figure size 432x288 with 1 Axes>"
      ]
     },
     "metadata": {
      "needs_background": "light"
     },
     "output_type": "display_data"
    },
    {
     "data": {
      "image/png": "[encoded data removed]",
      "text/plain": [
       "<Figure size 432x288 with 1 Axes>"
      ]
     },
     "metadata": {
      "needs_background": "light"
     },
     "output_type": "display_data"
    },
    {
     "name": "stdout",
     "output_type": "stream",
     "text": [
      "\n",
      "Testing Accuracy = 100.00%\n"
     ]
    }
   ],
   "source": [
    "model = train_model(diagnosis_title1, input, output1, test_input, test_output1)"
   ]
  },
  {
   "cell_type": "code",
   "execution_count": 8,
   "metadata": {},
   "outputs": [
    {
     "name": "stdout",
     "output_type": "stream",
     "text": [
      "iteration=0, loss=3.3663, train_acc=59.38%\n",
      "iteration=500, loss=0.9542, train_acc=59.38%\n",
      "iteration=1000, loss=0.8263, train_acc=59.38%\n",
      "iteration=1500, loss=0.6700, train_acc=59.38%\n",
      "iteration=2000, loss=0.3569, train_acc=76.04%\n",
      "iteration=2500, loss=0.1960, train_acc=100.00%\n",
      "iteration=3000, loss=0.1800, train_acc=100.00%\n",
      "iteration=3500, loss=0.1668, train_acc=100.00%\n",
      "iteration=4000, loss=0.1556, train_acc=100.00%\n",
      "iteration=4500, loss=0.1460, train_acc=100.00%\n",
      "iteration=5000, loss=0.1376, train_acc=100.00%\n",
      "iteration=5500, loss=0.1302, train_acc=100.00%\n",
      "iteration=6000, loss=0.1236, train_acc=100.00%\n",
      "iteration=6500, loss=0.1177, train_acc=100.00%\n",
      "iteration=7000, loss=0.1124, train_acc=100.00%\n",
      "iteration=7500, loss=0.1076, train_acc=100.00%\n",
      "iteration=8000, loss=0.1032, train_acc=100.00%\n",
      "iteration=8500, loss=0.0991, train_acc=100.00%\n",
      "iteration=9000, loss=0.0954, train_acc=100.00%\n",
      "iteration=9500, loss=0.0920, train_acc=100.00%\n",
      "iteration=10000, loss=0.0888, train_acc=100.00%\n",
      "iteration=10500, loss=0.0858, train_acc=100.00%\n",
      "iteration=11000, loss=0.0830, train_acc=100.00%\n",
      "iteration=11500, loss=0.0804, train_acc=100.00%\n",
      "iteration=12000, loss=0.0780, train_acc=100.00%\n",
      "iteration=12500, loss=0.0757, train_acc=100.00%\n",
      "iteration=13000, loss=0.0736, train_acc=100.00%\n",
      "iteration=13500, loss=0.0715, train_acc=100.00%\n",
      "iteration=14000, loss=0.0696, train_acc=100.00%\n",
      "iteration=14500, loss=0.0678, train_acc=100.00%\n",
      "iteration=15000, loss=0.0661, train_acc=100.00%\n",
      "iteration=15500, loss=0.0644, train_acc=100.00%\n",
      "iteration=16000, loss=0.0629, train_acc=100.00%\n",
      "iteration=16500, loss=0.0614, train_acc=100.00%\n",
      "iteration=17000, loss=0.0600, train_acc=100.00%\n",
      "iteration=17500, loss=0.0586, train_acc=100.00%\n",
      "iteration=18000, loss=0.0573, train_acc=100.00%\n",
      "iteration=18500, loss=0.0561, train_acc=100.00%\n",
      "iteration=19000, loss=0.0549, train_acc=100.00%\n",
      "iteration=19500, loss=0.0538, train_acc=100.00%\n"
     ]
    },
    {
     "data": {
      "image/png": "[encoded data removed]",
      "text/plain": [
       "<Figure size 432x288 with 1 Axes>"
      ]
     },
     "metadata": {
      "needs_background": "light"
     },
     "output_type": "display_data"
    },
    {
     "data": {
      "image/png": "[encoded data removed]",
      "text/plain": [
       "<Figure size 432x288 with 1 Axes>"
      ]
     },
     "metadata": {
      "needs_background": "light"
     },
     "output_type": "display_data"
    },
    {
     "name": "stdout",
     "output_type": "stream",
     "text": [
      "\n",
      "Testing Accuracy = 100.00%\n"
     ]
    }
   ],
   "source": [
    "model = train_model(diagnosis_title2, input, output2, test_input, test_output2)"
   ]
  },
  {
   "cell_type": "markdown",
   "metadata": {},
   "source": [
    "# FEDERATED LEARNING WITH A TRUSTED AGGREGATOR\n",
    "\n",
    "Now let's assume we have 4 hospitals. (The datasets will be split in 4, randomly.) And the 4 hospitals cannot share their cases because they are competitors. Hence, the ML model will be learned in a federated way by sending the model updates to a trusted aggregator that will average the model updates. The updated model will be sent back to each hospital in order to train the ML model in an iterative way. Only the ML model will be shared whereas the cases of each hospital will be kept private and will train model updates in a local way.<br>\n",
    "<br>\n",
    "\n",
    "<center>\n",
    " <img src=\"images/federated-learning.png\">\n",
    " Federated Learning - Image taken from <a href=\"https://www.intel.ai/federated-learning-for-medical-imaging/\">https://www.intel.ai/federated-learning-for-medical-imaging/</a>\n",
    "</center>"
   ]
  },
  {
   "cell_type": "code",
   "execution_count": 9,
   "metadata": {},
   "outputs": [
    {
     "name": "stderr",
     "output_type": "stream",
     "text": [
      "WARNING: Logging before flag parsing goes to stderr.\n",
      "W0819 21:45:56.401718 139962280290112 secure_random.py:26] Falling back to insecure randomness since the required custom op could not be found for the installed version of TensorFlow. Fix this by compiling custom ops. Missing file was '/home/jckuri/.conda/envs/private_pytorch/lib/python3.7/site-packages/tf_encrypted/operations/secure_random/secure_random_module_tf_1.14.0.so'\n",
      "W0819 21:45:56.415213 139962280290112 deprecation_wrapper.py:119] From /home/jckuri/.conda/envs/private_pytorch/lib/python3.7/site-packages/tf_encrypted/session.py:26: The name tf.Session is deprecated. Please use tf.compat.v1.Session instead.\n",
      "\n",
      "W0819 21:45:57.006902 139962280290112 base.py:628] Worker hospital1 already exists. Replacing old worker which could cause                     unexpected behavior\n",
      "W0819 21:45:57.008156 139962280290112 base.py:628] Worker hospital2 already exists. Replacing old worker which could cause                     unexpected behavior\n",
      "W0819 21:45:57.009157 139962280290112 base.py:628] Worker hospital3 already exists. Replacing old worker which could cause                     unexpected behavior\n",
      "W0819 21:45:57.010059 139962280290112 base.py:628] Worker secure_worker already exists. Replacing old worker which could cause                     unexpected behavior\n",
      "W0819 21:45:57.011122 139962280290112 base.py:628] Worker hospital0 already exists. Replacing old worker which could cause                     unexpected behavior\n",
      "W0819 21:45:57.012156 139962280290112 base.py:628] Worker hospital2 already exists. Replacing old worker which could cause                     unexpected behavior\n",
      "W0819 21:45:57.013146 139962280290112 base.py:628] Worker hospital3 already exists. Replacing old worker which could cause                     unexpected behavior\n",
      "W0819 21:45:57.014194 139962280290112 base.py:628] Worker secure_worker already exists. Replacing old worker which could cause                     unexpected behavior\n",
      "W0819 21:45:57.015292 139962280290112 base.py:628] Worker hospital0 already exists. Replacing old worker which could cause                     unexpected behavior\n",
      "W0819 21:45:57.015771 139962280290112 base.py:628] Worker hospital1 already exists. Replacing old worker which could cause                     unexpected behavior\n",
      "W0819 21:45:57.016205 139962280290112 base.py:628] Worker hospital3 already exists. Replacing old worker which could cause                     unexpected behavior\n",
      "W0819 21:45:57.018522 139962280290112 base.py:628] Worker secure_worker already exists. Replacing old worker which could cause                     unexpected behavior\n",
      "W0819 21:45:57.019166 139962280290112 base.py:628] Worker hospital0 already exists. Replacing old worker which could cause                     unexpected behavior\n",
      "W0819 21:45:57.020090 139962280290112 base.py:628] Worker hospital1 already exists. Replacing old worker which could cause                     unexpected behavior\n",
      "W0819 21:45:57.020627 139962280290112 base.py:628] Worker hospital2 already exists. Replacing old worker which could cause                     unexpected behavior\n",
      "W0819 21:45:57.021118 139962280290112 base.py:628] Worker secure_worker already exists. Replacing old worker which could cause                     unexpected behavior\n",
      "W0819 21:45:57.023662 139962280290112 base.py:628] Worker hospital0 already exists. Replacing old worker which could cause                     unexpected behavior\n",
      "W0819 21:45:57.029844 139962280290112 base.py:628] Worker hospital1 already exists. Replacing old worker which could cause                     unexpected behavior\n",
      "W0819 21:45:57.030653 139962280290112 base.py:628] Worker hospital2 already exists. Replacing old worker which could cause                     unexpected behavior\n",
      "W0819 21:45:57.031342 139962280290112 base.py:628] Worker hospital3 already exists. Replacing old worker which could cause                     unexpected behavior\n"
     ]
    },
    {
     "name": "stdout",
     "output_type": "stream",
     "text": [
      "workers of hospital0 = ['hospital1', 'hospital2', 'hospital3', 'secure_worker']\n",
      "workers of hospital1 = ['hospital0', 'hospital2', 'hospital3', 'secure_worker']\n",
      "workers of hospital2 = ['hospital0', 'hospital1', 'hospital3', 'secure_worker']\n",
      "workers of hospital3 = ['hospital0', 'hospital1', 'hospital2', 'secure_worker']\n",
      "workers of secure_worker = ['hospital0', 'hospital1', 'hospital2', 'hospital3']\n"
     ]
    }
   ],
   "source": [
    "import syft as sy\n",
    "import torch as th\n",
    "hook = sy.TorchHook(th)\n",
    "from torch import nn, optim\n",
    "\n",
    "n_hospitals = 4\n",
    "hospitals = []\n",
    "for i in range(n_hospitals):\n",
    "    hospital_name = 'hospital{}'.format(i)\n",
    "    hospital = sy.VirtualWorker(hook, id = hospital_name)\n",
    "    hospitals.append(hospital)\n",
    "secure_worker = sy.VirtualWorker(hook, id=\"secure_worker\")\n",
    "\n",
    "def get_workers_names(workers):\n",
    "    return [worker.id for worker in workers]\n",
    "\n",
    "def add_and_print_workers(worker, workers):\n",
    "    print('workers of {} = {}'.format(worker.id, get_workers_names(workers)))\n",
    "    worker.add_workers(workers)\n",
    "\n",
    "for i in range(n_hospitals):\n",
    "    workers = [hospitals[i2] for i2 in range(n_hospitals) if i2 != i] + [secure_worker]\n",
    "    add_and_print_workers(hospitals[i], workers)\n",
    "add_and_print_workers(secure_worker, hospitals)\n"
   ]
  },
  {
   "cell_type": "code",
   "execution_count": 10,
   "metadata": {},
   "outputs": [
    {
     "name": "stdout",
     "output_type": "stream",
     "text": [
      "LogisticRegression(\n",
      "  (linear): Linear(in_features=6, out_features=1, bias=True)\n",
      ")\n"
     ]
    }
   ],
   "source": [
    "n_samples = train_data.shape[0]\n",
    "samples_per_hospital = int((n_samples + 0.5) / n_hospitals)\n",
    "hospital_features = []\n",
    "hospital_targets1 = []\n",
    "hospital_targets2 = []\n",
    "train_data = th.tensor(train_data, dtype = torch.float32, requires_grad=True)\n",
    "for i in range(n_hospitals):\n",
    "    train_data2 = train_data[i * samples_per_hospital:(i + 1) * samples_per_hospital].clone().detach().requires_grad_(True)\n",
    "    features = train_data2[:, :6].clone().detach().requires_grad_(True)\n",
    "    targets1 = train_data2[:, 6][:, None].clone().detach() \n",
    "    targets2 = train_data2[:, 7][:, None].clone().detach() \n",
    "    hospital_features.append(features.send(hospitals[i]))\n",
    "    hospital_targets1.append(targets1.send(hospitals[i]))\n",
    "    hospital_targets2.append(targets2.send(hospitals[i]))\n",
    "\n",
    "print(model)"
   ]
  },
  {
   "cell_type": "code",
   "execution_count": 11,
   "metadata": {},
   "outputs": [],
   "source": [
    "def plot_federated_graphs(diagnosis_title, losses, accuracies):\n",
    "    for i in range(n_hospitals):\n",
    "        plt.plot(losses[i], label=f'Hospital {i}')\n",
    "    legend = plt.legend(loc='upper right', shadow=True)\n",
    "    plt.title(f\"{diagnosis_title} - Training Loss\")\n",
    "    plt.xlabel(\"Iterations\")\n",
    "    plt.ylabel(\"Training Loss\")\n",
    "    plt.show()\n",
    "    for i in range(n_hospitals):\n",
    "        plt.plot(accuracies[i], label=f'Hospital {i}')\n",
    "    legend = plt.legend(loc='lower right', shadow=True)\n",
    "    plt.title(f\"{diagnosis_title} - Training Accuracy\")\n",
    "    plt.xlabel(\"Iterations\")\n",
    "    plt.ylabel(\"Training Accuracy (Percent %)\")\n",
    "    plt.show()\n",
    "    \n",
    "def compute_federated_accuracy(model, input, output):\n",
    "    prediction = model(input)\n",
    "    n_samples = prediction.shape[0]\n",
    "    s = 0.\n",
    "    for i in range(n_samples):\n",
    "        p = 1. if prediction[i] >= 0.5 else 0.\n",
    "        e = 1. if p == output[i] else 0.\n",
    "        s += e\n",
    "    return 100. * s / n_samples\n",
    "\n",
    "iterations = 1000 #2000\n",
    "worker_iterations = 5\n",
    "\n",
    "def federated_learning(diagnosis_title, hospital_features, hospital_targets, test_input, test_output):\n",
    "    model = LogisticRegression()\n",
    "    criterion = torch.nn.BCELoss(size_average=True)\n",
    "    optimizer = torch.optim.SGD(model.parameters(), lr=learning_rate)  \n",
    "    losses = [[] for i in range(n_hospitals)]\n",
    "    accuracies = [[] for i in range(n_hospitals)]\n",
    "    for iteration in range(iterations):\n",
    "        models = [model.copy().send(hospitals[i]) for i in range(n_hospitals)]\n",
    "        optimizers = [torch.optim.SGD(params = models[i].parameters(), lr = learning_rate) for i in range(n_hospitals)]\n",
    "        for worker_iteration in range(worker_iterations):\n",
    "            last_losses = []\n",
    "            for i in range(n_hospitals):\n",
    "                optimizers[i].zero_grad()\n",
    "                prediction = models[i](hospital_features[i])\n",
    "                loss = criterion(prediction, hospital_targets[i])\n",
    "                loss.backward()\n",
    "                optimizers[i].step()\n",
    "                loss = loss.get().data.item()\n",
    "                last_losses.append(loss)\n",
    "        for i in range(n_hospitals):\n",
    "            losses[i].append(last_losses[i])\n",
    "            train_acc = compute_federated_accuracy(models[i], hospital_features[i], hospital_targets[i])\n",
    "            accuracies[i].append(train_acc)\n",
    "            models[i].move(secure_worker)\n",
    "        with th.no_grad():\n",
    "            avg_weight = sum([models[i].linear.weight.data for i in range(n_hospitals)]) / n_hospitals\n",
    "            model.linear.weight.set_(avg_weight.get())\n",
    "            avg_bias = sum([models[i].linear.bias.data for i in range(n_hospitals)]) / n_hospitals\n",
    "            model.linear.bias.set_(avg_bias.get())\n",
    "        if iteration % 100 == 0:\n",
    "            losses_str = ['{:.4f}'.format(losses[i][-1]) for i in range(n_hospitals)]\n",
    "            accuracies_str = [to_percent(accuracies[i][-1]) for i in range(n_hospitals)]\n",
    "            print('Iteration={}, losses={}, accuracies={}'.format(iteration, losses_str, accuracies_str))\n",
    "    plot_federated_graphs(diagnosis_title, losses, accuracies)\n",
    "    test_acc = compute_accuracy(model, test_input, test_output)\n",
    "    print('\\nTesting Accuracy = {}'.format(to_percent(test_acc)))\n",
    "    return model\n"
   ]
  },
  {
   "cell_type": "code",
   "execution_count": 12,
   "metadata": {},
   "outputs": [
    {
     "name": "stderr",
     "output_type": "stream",
     "text": [
      "/home/jckuri/.conda/envs/private_pytorch/lib/python3.7/site-packages/torch/nn/_reduction.py:46: UserWarning: size_average and reduce args will be deprecated, please use reduction='mean' instead.\n",
      "  warnings.warn(warning.format(ret))\n"
     ]
    },
    {
     "name": "stdout",
     "output_type": "stream",
     "text": [
      "Iteration=0, losses=['1.9065', '1.8629', '0.7269', '1.2242'], accuracies=['50.00%', '50.00%', '62.50%', '58.33%']\n",
      "Iteration=100, losses=['1.4007', '1.3144', '0.8521', '1.2932'], accuracies=['50.00%', '50.00%', '62.50%', '41.67%']\n",
      "Iteration=200, losses=['0.9029', '0.7439', '0.4928', '0.9897'], accuracies=['50.00%', '62.50%', '62.50%', '54.17%']\n",
      "Iteration=300, losses=['0.3542', '0.2369', '0.3083', '0.4075'], accuracies=['79.17%', '95.83%', '79.17%', '66.67%']\n",
      "Iteration=400, losses=['0.1917', '0.1684', '0.2015', '0.1913'], accuracies=['100.00%', '100.00%', '100.00%', '100.00%']\n",
      "Iteration=500, losses=['0.1715', '0.1508', '0.1762', '0.1688'], accuracies=['100.00%', '100.00%', '100.00%', '100.00%']\n",
      "Iteration=600, losses=['0.1555', '0.1369', '0.1582', '0.1533'], accuracies=['100.00%', '100.00%', '100.00%', '100.00%']\n",
      "Iteration=700, losses=['0.1425', '0.1256', '0.1441', '0.1415'], accuracies=['100.00%', '100.00%', '100.00%', '100.00%']\n",
      "Iteration=800, losses=['0.1316', '0.1162', '0.1327', '0.1320'], accuracies=['100.00%', '100.00%', '100.00%', '100.00%']\n",
      "Iteration=900, losses=['0.1224', '0.1082', '0.1230', '0.1240'], accuracies=['100.00%', '100.00%', '100.00%', '100.00%']\n"
     ]
    },
    {
     "data": {
      "image/png": "[encoded data removed]",
      "text/plain": [
       "<Figure size 432x288 with 1 Axes>"
      ]
     },
     "metadata": {
      "needs_background": "light"
     },
     "output_type": "display_data"
    },
    {
     "data": {
      "image/png": "[encoded data removed]",
      "text/plain": [
       "<Figure size 432x288 with 1 Axes>"
      ]
     },
     "metadata": {
      "needs_background": "light"
     },
     "output_type": "display_data"
    },
    {
     "name": "stdout",
     "output_type": "stream",
     "text": [
      "\n",
      "Testing Accuracy = 100.00%\n"
     ]
    }
   ],
   "source": [
    "model = federated_learning(diagnosis_title1, hospital_features, hospital_targets1, test_input, test_output1)"
   ]
  },
  {
   "cell_type": "code",
   "execution_count": 13,
   "metadata": {},
   "outputs": [
    {
     "name": "stdout",
     "output_type": "stream",
     "text": [
      "Iteration=0, losses=['1.1392', '1.8747', '0.8488', '1.7840'], accuracies=['41.67%', '37.50%', '58.33%', '41.67%']\n",
      "Iteration=100, losses=['1.0802', '0.4893', '1.0590', '1.1285'], accuracies=['83.33%', '66.67%', '58.33%', '41.67%']\n",
      "Iteration=200, losses=['0.3641', '0.5924', '0.9173', '1.1094'], accuracies=['83.33%', '66.67%', '58.33%', '41.67%']\n",
      "Iteration=300, losses=['0.3209', '0.4818', '0.8035', '0.9117'], accuracies=['75.00%', '66.67%', '58.33%', '58.33%']\n",
      "Iteration=400, losses=['0.2540', '0.3264', '0.6644', '0.3510'], accuracies=['79.17%', '79.17%', '58.33%', '91.67%']\n",
      "Iteration=500, losses=['0.1833', '0.2052', '0.2130', '0.2052'], accuracies=['100.00%', '100.00%', '100.00%', '100.00%']\n",
      "Iteration=600, losses=['0.1670', '0.1868', '0.1944', '0.1882'], accuracies=['100.00%', '100.00%', '100.00%', '100.00%']\n",
      "Iteration=700, losses=['0.1538', '0.1727', '0.1795', '0.1745'], accuracies=['100.00%', '100.00%', '100.00%', '100.00%']\n",
      "Iteration=800, losses=['0.1427', '0.1610', '0.1669', '0.1635'], accuracies=['100.00%', '100.00%', '100.00%', '100.00%']\n",
      "Iteration=900, losses=['0.1333', '0.1511', '0.1561', '0.1541'], accuracies=['100.00%', '100.00%', '100.00%', '100.00%']\n"
     ]
    },
    {
     "data": {
      "image/png": "[encoded data removed]",
      "text/plain": [
       "<Figure size 432x288 with 1 Axes>"
      ]
     },
     "metadata": {
      "needs_background": "light"
     },
     "output_type": "display_data"
    },
    {
     "data": {
      "image/png": "[encoded data removed]",
      "text/plain": [
       "<Figure size 432x288 with 1 Axes>"
      ]
     },
     "metadata": {
      "needs_background": "light"
     },
     "output_type": "display_data"
    },
    {
     "name": "stdout",
     "output_type": "stream",
     "text": [
      "\n",
      "Testing Accuracy = 100.00%\n"
     ]
    }
   ],
   "source": [
    "model = federated_learning(diagnosis_title2, hospital_features, hospital_targets2, test_input, test_output2)"
   ]
  },
  {
   "cell_type": "code",
   "execution_count": null,
   "metadata": {},
   "outputs": [],
   "source": []
  }
 ],
 "metadata": {
  "kernelspec": {
   "display_name": "Python 3",
   "language": "python",
   "name": "python3"
  },
  "language_info": {
   "codemirror_mode": {
    "name": "ipython",
    "version": 3
   },
   "file_extension": ".py",
   "mimetype": "text/x-python",
   "name": "python",
   "nbconvert_exporter": "python",
   "pygments_lexer": "ipython3",
   "version": "3.7.3"
  }
 },
 "nbformat": 4,
 "nbformat_minor": 2
}
